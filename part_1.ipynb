{
 "cells": [
  {
   "cell_type": "markdown",
   "metadata": {},
   "source": [
    "# 快速调用线程方法"
   ]
  },
  {
   "cell_type": "code",
   "execution_count": null,
   "metadata": {},
   "outputs": [],
   "source": [
    "import threading\n",
    "\n",
    "def function(i):\n",
    "    print(\"function called by thead {}\\t\".format(i))\n",
    "    return\n",
    "\n",
    "threads = []\n",
    "\n",
    "for i in range(5):\n",
    "    t = threading.Thread(target = function,args = (i,))\n",
    "    threads.append(t)\n",
    "    t.start()\n",
    "    t.join()"
   ]
  },
  {
   "cell_type": "markdown",
   "metadata": {},
   "source": [
    "# 锁定线程，命名"
   ]
  },
  {
   "cell_type": "code",
   "execution_count": 24,
   "metadata": {},
   "outputs": [],
   "source": [
    "import threading\n",
    "from time import strftime,sleep,time\n",
    "from datetime import datetime,date\n",
    "\n",
    "\n",
    "def first_function():\n",
    "    print(threading.currentThread().getName() + str(' is starting! '))\n",
    "    sleep(2)\n",
    "    print(threading.currentThread().getName() + str(' is Exiting! '))\n",
    "    return\n",
    "\n",
    "def second_function():\n",
    "    print(threading.currentThread().getName() + str(' is starting! '))\n",
    "    sleep(2)\n",
    "    print(threading.currentThread().getName() + str(' is Exiting! '))\n",
    "    return\n",
    "\n",
    "def third_function():\n",
    "    print(threading.currentThread().getName() + str(' is starting! '))\n",
    "    sleep(2)\n",
    "    print(threading.currentThread().getName() + str(' is Exiting! '))\n",
    "    return\n"
   ]
  },
  {
   "cell_type": "code",
   "execution_count": 31,
   "metadata": {},
   "outputs": [
    {
     "name": "stdout",
     "output_type": "stream",
     "text": [
      "first_function is starting! \n",
      "second_function is starting! \n",
      "third_function is starting! \n",
      "first_function is Exiting! \n",
      "second_function is Exiting! \n",
      "third_function is Exiting! \n"
     ]
    }
   ],
   "source": [
    "if __name__ == '__main__':\n",
    "    t1 = threading.Thread(name = 'first_function',target = first_function)\n",
    "    t2 = threading.Thread(name = 'second_function',target = second_function)\n",
    "    t3 = threading.Thread(name = 'third_function',target = third_function)\n",
    "    t1.start()\n",
    "    t2.start()\n",
    "    t3.start()\n",
    "    "
   ]
  },
  {
   "cell_type": "markdown",
   "metadata": {},
   "source": [
    "# 当前时间获取"
   ]
  },
  {
   "cell_type": "code",
   "execution_count": 32,
   "metadata": {},
   "outputs": [
    {
     "name": "stdout",
     "output_type": "stream",
     "text": [
      "1535019959.1781466\n",
      "2018-08-23 18:25:59.178146\n",
      "2018\n",
      "8\n",
      "23\n",
      "18\n",
      "25\n",
      "59\n",
      "178146\n",
      "2018-08-23\n",
      "2018\n",
      "8\n",
      "23\n",
      "2018-08-23 18:25:59\n",
      "2018-08-23 18:25\n",
      "2018-08-23 18\n",
      "2018-08-23\n",
      "2018-08\n"
     ]
    }
   ],
   "source": [
    "from time import strftime,sleep,time\n",
    "from datetime import datetime,date\n",
    "\n",
    "print(time())\n",
    "\n",
    "now = datetime.now()\n",
    "print(now)\n",
    "print(now.year)\n",
    "print(now.month)\n",
    "print(now.day)\n",
    "print(now.hour)\n",
    "print(now.minute)\n",
    "print(now.second)\n",
    "print(now.microsecond)\n",
    "\n",
    "\n",
    "today = date.today()\n",
    "print(today)\n",
    "print(today.year)\n",
    "print(today.month)\n",
    "print(today.day)\n",
    "\n",
    "\n",
    "print(datetime.now().strftime('%Y-%m-%d %H:%M:%S'))\n",
    "print(datetime.now().strftime('%Y-%m-%d %H:%M'))\n",
    "print(datetime.now().strftime('%Y-%m-%d %H'))\n",
    "print(datetime.now().strftime('%Y-%m-%d'))\n",
    "print(datetime.now().strftime('%Y-%m'))"
   ]
  },
  {
   "cell_type": "markdown",
   "metadata": {},
   "source": [
    "# 线程构建方法，1.继承；2.初始化__init__()；3.定义run()方法；4.start()方法执行run（）方法，join()方法控线程结束再执行以下代码。"
   ]
  },
  {
   "cell_type": "code",
   "execution_count": 30,
   "metadata": {},
   "outputs": [
    {
     "name": "stdout",
     "output_type": "stream",
     "text": [
      "Starting Thread-1\n",
      "Starting Thread-2\n",
      "Thread-1: Thu Aug 23 18:23:09 2018\n",
      "Thread-1: Thu Aug 23 18:23:10 2018\n",
      "Thread-2: Thu Aug 23 18:23:10 2018\n",
      "Thread-1: Thu Aug 23 18:23:11 2018\n",
      "Thread-1: Thu Aug 23 18:23:12 2018\n",
      "Thread-2: Thu Aug 23 18:23:12 2018\n",
      "Thread-1: Thu Aug 23 18:23:13 2018\n",
      "Exiting Thread-1\n",
      "Thread-2: Thu Aug 23 18:23:14 2018\n",
      "Thread-2: Thu Aug 23 18:23:16 2018\n",
      "Thread-2: Thu Aug 23 18:23:18 2018\n",
      "Exiting Thread-2\n",
      "Exiting Main Thread\n"
     ]
    }
   ],
   "source": [
    "import threading\n",
    "import time\n",
    "\n",
    "exitFlag = 0\n",
    "\n",
    "class myThread (threading.Thread):\n",
    "    def __init__(self, threadID, name, counter):\n",
    "        threading.Thread.__init__(self)\n",
    "        self.threadID = threadID\n",
    "        self.name = name\n",
    "        self.counter = counter\n",
    "\n",
    "    def run(self):\n",
    "        print(\"Starting \" + self.name)\n",
    "        print_time(self.name, self.counter, 5)\n",
    "        print(\"Exiting \" + self.name)\n",
    "\n",
    "def print_time(threadName, delay, counter):\n",
    "    while counter:\n",
    "        if exitFlag:\n",
    "            # 译者注：原书中使用的thread，但是Python3中已经不能使用thread，以_thread取代，因此应该\n",
    "            # import _thread\n",
    "            # _thread.exit()\n",
    "            thread.exit()\n",
    "        time.sleep(delay)\n",
    "        print(\"%s: %s\" % (threadName, time.ctime(time.time())))\n",
    "        counter -= 1\n",
    "\n",
    "# Create new threads\n",
    "thread1 = myThread(1, \"Thread-1\", 1)\n",
    "thread2 = myThread(2, \"Thread-2\", 2)\n",
    "\n",
    "# Start new Threads\n",
    "thread1.start()\n",
    "thread2.start()\n",
    "\n",
    "# 以下两行为译者添加，如果要获得和图片相同的结果，\n",
    "# 下面两行是必须的。疑似原作者的疏漏\n",
    "thread1.join()\n",
    "thread2.join()\n",
    "print(\"Exiting Main Thread\")"
   ]
  }
 ],
 "metadata": {
  "kernelspec": {
   "display_name": "Python 3",
   "language": "python",
   "name": "python3"
  },
  "language_info": {
   "codemirror_mode": {
    "name": "ipython",
    "version": 3
   },
   "file_extension": ".py",
   "mimetype": "text/x-python",
   "name": "python",
   "nbconvert_exporter": "python",
   "pygments_lexer": "ipython3",
   "version": "3.6.5"
  }
 },
 "nbformat": 4,
 "nbformat_minor": 2
}
